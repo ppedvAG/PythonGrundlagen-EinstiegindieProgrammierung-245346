{
 "cells": [
  {
   "cell_type": "markdown",
   "id": "68434bcf-99c8-4524-95c4-597e8c69fe31",
   "metadata": {},
   "source": [
    "## Numpy\n",
    "\n",
    "Grundwerkzeug für Zahlenverarbeitung in Python\n",
    "\n",
    "Geschrieben in C -> Performant"
   ]
  },
  {
   "cell_type": "code",
   "execution_count": 1,
   "id": "7b5aea5e-c80b-4c8e-8687-35d0aa90cb4a",
   "metadata": {},
   "outputs": [],
   "source": [
    "import numpy as np"
   ]
  },
  {
   "cell_type": "markdown",
   "id": "4247450c-4233-48a4-a54d-b092ff23828a",
   "metadata": {},
   "source": [
    "### Array\n",
    "\n",
    "N-Dimensionales Array mit beliebigen Werten\n",
    "\n",
    "Datentypen können nicht gemischt werden"
   ]
  },
  {
   "cell_type": "code",
   "execution_count": 5,
   "id": "e03afedc-cdb0-4f76-a164-ecd6af6221a1",
   "metadata": {},
   "outputs": [],
   "source": [
    "a = np.array([1, 2, 3, 4])"
   ]
  },
  {
   "cell_type": "code",
   "execution_count": 6,
   "id": "377b127f-2978-4bb7-89e1-196cfcb02711",
   "metadata": {},
   "outputs": [
    {
     "data": {
      "text/plain": [
       "array([1, 2, 3, 4])"
      ]
     },
     "execution_count": 6,
     "metadata": {},
     "output_type": "execute_result"
    }
   ],
   "source": [
    "a"
   ]
  },
  {
   "cell_type": "code",
   "execution_count": 8,
   "id": "3904db80-7d30-48c7-9df2-e50874d1f973",
   "metadata": {},
   "outputs": [
    {
     "data": {
      "text/plain": [
       "dtype('int64')"
      ]
     },
     "execution_count": 8,
     "metadata": {},
     "output_type": "execute_result"
    }
   ],
   "source": [
    "a.dtype  # 8 Byte pro Zahl -> ineffizient"
   ]
  },
  {
   "cell_type": "markdown",
   "id": "26972768-d6df-4147-8db3-552ed78608f0",
   "metadata": {},
   "source": [
    "#### Datentypen\n",
    "\n",
    "In Numpy gibt es mehrere Datentypen zur Auswahl\n",
    "\n",
    "Ganze Zahlen:\n",
    "- Int64\n",
    "- Int32\n",
    "- Int16\n",
    "- Int8\n",
    "\n",
    "Kommazahlen:\n",
    "- Float64\n",
    "- Float32\n",
    "- Float16"
   ]
  },
  {
   "cell_type": "code",
   "execution_count": 9,
   "id": "d6c10162-7157-4156-a990-77897b972bf3",
   "metadata": {},
   "outputs": [],
   "source": [
    "b = np.array([1, 2, 3, 4], dtype=np.int8)"
   ]
  },
  {
   "cell_type": "code",
   "execution_count": 10,
   "id": "49e4925e-b304-4ebc-ab47-2c46d14583b8",
   "metadata": {},
   "outputs": [
    {
     "data": {
      "text/plain": [
       "array([1, 2, 3, 4], dtype=int8)"
      ]
     },
     "execution_count": 10,
     "metadata": {},
     "output_type": "execute_result"
    }
   ],
   "source": [
    "b"
   ]
  },
  {
   "cell_type": "code",
   "execution_count": 15,
   "id": "1c0d2e0a-4c42-445e-b731-cb3799c83c94",
   "metadata": {},
   "outputs": [
    {
     "data": {
      "text/plain": [
       "4"
      ]
     },
     "execution_count": 15,
     "metadata": {},
     "output_type": "execute_result"
    }
   ],
   "source": [
    "b.size  # Gesamtanzahl Elemente (funktioniert auch bei mehreren Dimensionen)"
   ]
  },
  {
   "cell_type": "code",
   "execution_count": 16,
   "id": "1afb10cb-6a0f-47d6-b357-b8ac1d3c1eff",
   "metadata": {},
   "outputs": [
    {
     "data": {
      "text/plain": [
       "4"
      ]
     },
     "execution_count": 16,
     "metadata": {},
     "output_type": "execute_result"
    }
   ],
   "source": [
    "len(b)"
   ]
  },
  {
   "cell_type": "code",
   "execution_count": 18,
   "id": "4ff0200a-12c9-4411-bcb2-e88f590cad5c",
   "metadata": {},
   "outputs": [
    {
     "data": {
      "text/plain": [
       "1"
      ]
     },
     "execution_count": 18,
     "metadata": {},
     "output_type": "execute_result"
    }
   ],
   "source": [
    "b.ndim  # Anzahl Dimensionen"
   ]
  },
  {
   "cell_type": "code",
   "execution_count": 20,
   "id": "f26ad53f-dc2f-400b-a2df-2a2fe0dc452f",
   "metadata": {},
   "outputs": [
    {
     "data": {
      "text/plain": [
       "(4,)"
      ]
     },
     "execution_count": 20,
     "metadata": {},
     "output_type": "execute_result"
    }
   ],
   "source": [
    "b.shape  # Größe der Seitenlängen (hier 4)"
   ]
  },
  {
   "cell_type": "markdown",
   "id": "832ee6c7-d3a7-4260-b57e-62bef6b771af",
   "metadata": {},
   "source": [
    "#### Index\n",
    "\n",
    "Funktioniert wie in Python"
   ]
  },
  {
   "cell_type": "code",
   "execution_count": 67,
   "id": "cd123475-2c4d-4c5c-bb8a-4d501496d2b3",
   "metadata": {},
   "outputs": [
    {
     "data": {
      "text/plain": [
       "np.int8(1)"
      ]
     },
     "execution_count": 67,
     "metadata": {},
     "output_type": "execute_result"
    }
   ],
   "source": [
    "b[0]"
   ]
  },
  {
   "cell_type": "code",
   "execution_count": 68,
   "id": "29d21aca-0f07-491b-9cf6-cf4de49afef3",
   "metadata": {},
   "outputs": [
    {
     "data": {
      "text/plain": [
       "np.int8(4)"
      ]
     },
     "execution_count": 68,
     "metadata": {},
     "output_type": "execute_result"
    }
   ],
   "source": [
    "b[-1]"
   ]
  },
  {
   "cell_type": "code",
   "execution_count": 69,
   "id": "b314ff0d-fd5c-45fd-bb48-fe47c28d790f",
   "metadata": {},
   "outputs": [
    {
     "data": {
      "text/plain": [
       "array([2, 3], dtype=int8)"
      ]
     },
     "execution_count": 69,
     "metadata": {},
     "output_type": "execute_result"
    }
   ],
   "source": [
    "b[1:3]"
   ]
  },
  {
   "cell_type": "markdown",
   "id": "d45d26f6-22c2-49cf-a8ea-562b966b30b9",
   "metadata": {},
   "source": [
    "### Matrizen\n",
    "\n",
    "Über np.array kann auch ein mehrdimensionales Array erstellt werden"
   ]
  },
  {
   "cell_type": "code",
   "execution_count": 22,
   "id": "44f87d25-f6b7-433a-b262-eabf297c5d13",
   "metadata": {},
   "outputs": [],
   "source": [
    "c = np.array([[1, 2, 3], [4, 5, 6], [7, 8, 9]])"
   ]
  },
  {
   "cell_type": "code",
   "execution_count": 23,
   "id": "d61dcc48-6455-44a5-a779-6c35d8114829",
   "metadata": {},
   "outputs": [
    {
     "data": {
      "text/plain": [
       "array([[1, 2, 3],\n",
       "       [4, 5, 6],\n",
       "       [7, 8, 9]])"
      ]
     },
     "execution_count": 23,
     "metadata": {},
     "output_type": "execute_result"
    }
   ],
   "source": [
    "c"
   ]
  },
  {
   "cell_type": "code",
   "execution_count": 24,
   "id": "b6618a24-0fd5-425f-9a0d-dddd353e2506",
   "metadata": {},
   "outputs": [
    {
     "data": {
      "text/plain": [
       "9"
      ]
     },
     "execution_count": 24,
     "metadata": {},
     "output_type": "execute_result"
    }
   ],
   "source": [
    "c.size"
   ]
  },
  {
   "cell_type": "code",
   "execution_count": 25,
   "id": "125ee681-4ebd-44d4-8193-7dc62092c3f2",
   "metadata": {},
   "outputs": [
    {
     "data": {
      "text/plain": [
       "3"
      ]
     },
     "execution_count": 25,
     "metadata": {},
     "output_type": "execute_result"
    }
   ],
   "source": [
    "len(c)"
   ]
  },
  {
   "cell_type": "code",
   "execution_count": 26,
   "id": "007d5000-5c12-4708-8541-21910bd88424",
   "metadata": {},
   "outputs": [
    {
     "data": {
      "text/plain": [
       "2"
      ]
     },
     "execution_count": 26,
     "metadata": {},
     "output_type": "execute_result"
    }
   ],
   "source": [
    "c.ndim"
   ]
  },
  {
   "cell_type": "code",
   "execution_count": 27,
   "id": "8f087d4b-5315-4bf3-9c61-75ded82da135",
   "metadata": {},
   "outputs": [
    {
     "data": {
      "text/plain": [
       "(3, 3)"
      ]
     },
     "execution_count": 27,
     "metadata": {},
     "output_type": "execute_result"
    }
   ],
   "source": [
    "c.shape"
   ]
  },
  {
   "cell_type": "markdown",
   "id": "ad47b782-8d2d-4e90-9d1d-502f197a0e98",
   "metadata": {},
   "source": [
    "#### Index bei Matrix"
   ]
  },
  {
   "cell_type": "code",
   "execution_count": 70,
   "id": "ed188677-5aed-4b06-b267-3ccdcd87e0db",
   "metadata": {},
   "outputs": [
    {
     "data": {
      "text/plain": [
       "array([1, 2, 3])"
      ]
     },
     "execution_count": 70,
     "metadata": {},
     "output_type": "execute_result"
    }
   ],
   "source": [
    "c[0]"
   ]
  },
  {
   "cell_type": "code",
   "execution_count": 71,
   "id": "665f3765-0f41-4577-899b-9032fa0a57a4",
   "metadata": {},
   "outputs": [
    {
     "data": {
      "text/plain": [
       "array([[4, 5, 6],\n",
       "       [7, 8, 9]])"
      ]
     },
     "execution_count": 71,
     "metadata": {},
     "output_type": "execute_result"
    }
   ],
   "source": [
    "c[1:3]"
   ]
  },
  {
   "cell_type": "code",
   "execution_count": 72,
   "id": "1d18cd90-f167-4eb7-a396-768c2444fbd4",
   "metadata": {},
   "outputs": [
    {
     "data": {
      "text/plain": [
       "array([7, 8, 9])"
      ]
     },
     "execution_count": 72,
     "metadata": {},
     "output_type": "execute_result"
    }
   ],
   "source": [
    "c[-1]"
   ]
  },
  {
   "cell_type": "code",
   "execution_count": 74,
   "id": "373059dd-7d1c-4cd5-bbb2-270bb990e551",
   "metadata": {},
   "outputs": [
    {
     "data": {
      "text/plain": [
       "np.int64(5)"
      ]
     },
     "execution_count": 74,
     "metadata": {},
     "output_type": "execute_result"
    }
   ],
   "source": [
    "c[1][1]  # Die mittlere Stelle"
   ]
  },
  {
   "cell_type": "code",
   "execution_count": 76,
   "id": "8a37f109-8049-4541-a486-75929b6c3591",
   "metadata": {},
   "outputs": [
    {
     "data": {
      "text/plain": [
       "np.int64(5)"
      ]
     },
     "execution_count": 76,
     "metadata": {},
     "output_type": "execute_result"
    }
   ],
   "source": [
    "c[1, 1]  # In Numpy möglich, in Python nicht möglich"
   ]
  },
  {
   "cell_type": "code",
   "execution_count": 77,
   "id": "a6836371-509d-4b62-8f7b-c6ef9573fa53",
   "metadata": {},
   "outputs": [
    {
     "data": {
      "text/plain": [
       "array([[1, 2, 3],\n",
       "       [4, 5, 6],\n",
       "       [7, 8, 9]])"
      ]
     },
     "execution_count": 77,
     "metadata": {},
     "output_type": "execute_result"
    }
   ],
   "source": [
    "c"
   ]
  },
  {
   "cell_type": "code",
   "execution_count": 83,
   "id": "9ded1bb9-4a51-471b-9c19-0f99ff4dc7b6",
   "metadata": {},
   "outputs": [
    {
     "data": {
      "text/plain": [
       "array([[2, 3],\n",
       "       [5, 6]])"
      ]
     },
     "execution_count": 83,
     "metadata": {},
     "output_type": "execute_result"
    }
   ],
   "source": [
    "c[0:2, 1:3]"
   ]
  },
  {
   "cell_type": "code",
   "execution_count": 88,
   "id": "bd65c2da-f3df-4bb7-a7ca-93453447da18",
   "metadata": {},
   "outputs": [
    {
     "data": {
      "text/plain": [
       "array([2, 5, 8])"
      ]
     },
     "execution_count": 88,
     "metadata": {},
     "output_type": "execute_result"
    }
   ],
   "source": [
    "c[:, 1]  # Doppelpunkt: Alles"
   ]
  },
  {
   "cell_type": "markdown",
   "id": "da30a461-f234-4481-81e6-010fffdadea6",
   "metadata": {},
   "source": [
    "#### Einfache Funktionen"
   ]
  },
  {
   "cell_type": "code",
   "execution_count": 31,
   "id": "a20cd57f-4c0a-4b48-90b3-1d55a3608e94",
   "metadata": {},
   "outputs": [
    {
     "data": {
      "text/plain": [
       "np.int64(45)"
      ]
     },
     "execution_count": 31,
     "metadata": {},
     "output_type": "execute_result"
    }
   ],
   "source": [
    "c.sum()  # Gesamtsumme aller Elemente"
   ]
  },
  {
   "cell_type": "code",
   "execution_count": 32,
   "id": "6508b023-59dd-48c9-b6b8-98ec4aa35ff2",
   "metadata": {},
   "outputs": [
    {
     "data": {
      "text/plain": [
       "np.float64(5.0)"
      ]
     },
     "execution_count": 32,
     "metadata": {},
     "output_type": "execute_result"
    }
   ],
   "source": [
    "c.mean()"
   ]
  },
  {
   "cell_type": "code",
   "execution_count": 37,
   "id": "277dbbab-ed68-4657-a3bd-f6ff4d96474f",
   "metadata": {},
   "outputs": [
    {
     "data": {
      "text/plain": [
       "np.float64(2.581988897471611)"
      ]
     },
     "execution_count": 37,
     "metadata": {},
     "output_type": "execute_result"
    }
   ],
   "source": [
    "c.std()"
   ]
  },
  {
   "cell_type": "code",
   "execution_count": 38,
   "id": "f566cdfd-30bd-41be-900a-a8c0f8dea44a",
   "metadata": {},
   "outputs": [
    {
     "data": {
      "text/plain": [
       "np.float64(6.666666666666667)"
      ]
     },
     "execution_count": 38,
     "metadata": {},
     "output_type": "execute_result"
    }
   ],
   "source": [
    "c.var()"
   ]
  },
  {
   "cell_type": "code",
   "execution_count": 42,
   "id": "64faad0e-2675-4b2e-90d2-8f325e28b3fc",
   "metadata": {},
   "outputs": [
    {
     "data": {
      "text/plain": [
       "array([12, 15, 18])"
      ]
     },
     "execution_count": 42,
     "metadata": {},
     "output_type": "execute_result"
    }
   ],
   "source": [
    "c.sum(axis=0)  # Y-Achse"
   ]
  },
  {
   "cell_type": "code",
   "execution_count": 43,
   "id": "1529cfb5-a1eb-4b90-aa2f-97fe94c09056",
   "metadata": {},
   "outputs": [
    {
     "data": {
      "text/plain": [
       "array([ 6, 15, 24])"
      ]
     },
     "execution_count": 43,
     "metadata": {},
     "output_type": "execute_result"
    }
   ],
   "source": [
    "c.sum(axis=1)  # X-Achse"
   ]
  },
  {
   "cell_type": "code",
   "execution_count": 47,
   "id": "4e27bf35-74fd-4549-b7af-a5b4b9157e59",
   "metadata": {},
   "outputs": [
    {
     "data": {
      "text/plain": [
       "array([0, 1, 2, 3, 4, 5, 6, 7, 8, 9])"
      ]
     },
     "execution_count": 47,
     "metadata": {},
     "output_type": "execute_result"
    }
   ],
   "source": [
    "np.arange(10)  # Numpy Array aus einer Range erstellen"
   ]
  },
  {
   "cell_type": "markdown",
   "id": "98a270e1-65fa-41c4-8253-0d3061911fba",
   "metadata": {},
   "source": [
    "### Vektorisierung\n",
    "\n",
    "Gesamtes Array mit einer Operation verarbeiten\n",
    "\n",
    "U.a. für Boolean Masken essentiell"
   ]
  },
  {
   "cell_type": "code",
   "execution_count": 48,
   "id": "5b0c923a-8fc3-442d-9665-9e85af673106",
   "metadata": {},
   "outputs": [],
   "source": [
    "d = np.arange(10)"
   ]
  },
  {
   "cell_type": "code",
   "execution_count": 50,
   "id": "b254368f-9f0b-48eb-972c-ebf789be4f1d",
   "metadata": {},
   "outputs": [
    {
     "data": {
      "text/plain": [
       "array([ 0,  2,  4,  6,  8, 10, 12, 14, 16, 18])"
      ]
     },
     "execution_count": 50,
     "metadata": {},
     "output_type": "execute_result"
    }
   ],
   "source": [
    "d * 2  # Jede Zahl mit 2 multipliziert"
   ]
  },
  {
   "cell_type": "code",
   "execution_count": 51,
   "id": "00fa6505-34e5-4a1f-bef8-36f892e0a311",
   "metadata": {},
   "outputs": [
    {
     "name": "stdout",
     "output_type": "stream",
     "text": [
      "0\n",
      "2\n",
      "4\n",
      "6\n",
      "8\n",
      "10\n",
      "12\n",
      "14\n",
      "16\n",
      "18\n"
     ]
    }
   ],
   "source": [
    "for x in d:\n",
    "    print(x * 2)"
   ]
  },
  {
   "cell_type": "code",
   "execution_count": 52,
   "id": "c549acaa-9bf0-47f2-bdbb-184fee013274",
   "metadata": {},
   "outputs": [
    {
     "data": {
      "text/plain": [
       "array([0, 1, 0, 1, 0, 1, 0, 1, 0, 1])"
      ]
     },
     "execution_count": 52,
     "metadata": {},
     "output_type": "execute_result"
    }
   ],
   "source": [
    "d % 2"
   ]
  },
  {
   "cell_type": "code",
   "execution_count": 53,
   "id": "68a10097-a753-4534-997d-7d475dec9660",
   "metadata": {},
   "outputs": [
    {
     "data": {
      "text/plain": [
       "array([    0,     1,    32,   243,  1024,  3125,  7776, 16807, 32768,\n",
       "       59049])"
      ]
     },
     "execution_count": 53,
     "metadata": {},
     "output_type": "execute_result"
    }
   ],
   "source": [
    "d ** 5"
   ]
  },
  {
   "cell_type": "code",
   "execution_count": 54,
   "id": "1e773c8f-ba79-4cd3-b054-122e9ca96e74",
   "metadata": {},
   "outputs": [],
   "source": [
    "e = np.arange(10)"
   ]
  },
  {
   "cell_type": "code",
   "execution_count": 56,
   "id": "3e03c696-10b2-4d02-ac7b-11d56df3aa7d",
   "metadata": {},
   "outputs": [
    {
     "data": {
      "text/plain": [
       "array([ 0,  1,  4,  9, 16, 25, 36, 49, 64, 81])"
      ]
     },
     "execution_count": 56,
     "metadata": {},
     "output_type": "execute_result"
    }
   ],
   "source": [
    "d * e  # Zwei Arrays miteinander vektorisieren"
   ]
  },
  {
   "cell_type": "code",
   "execution_count": 58,
   "id": "9bfdedfc-41c1-463e-98aa-653d59c52b92",
   "metadata": {},
   "outputs": [
    {
     "data": {
      "text/plain": [
       "array([[ 1,  4,  9],\n",
       "       [16, 25, 36],\n",
       "       [49, 64, 81]])"
      ]
     },
     "execution_count": 58,
     "metadata": {},
     "output_type": "execute_result"
    }
   ],
   "source": [
    "c * c  # Auch bei Matrizen möglich"
   ]
  },
  {
   "cell_type": "markdown",
   "id": "f4775e07-c197-4e0e-9014-0f256d59f9b1",
   "metadata": {},
   "source": [
    "### Boolean Masken\n",
    "\n",
    "Vektorisierung mit einer booleschen Operation\n",
    "\n",
    "Bringt als Ergebnis ein Numpy Array mit True/False gefüllt\n",
    "\n",
    "Verwendung: Filterung"
   ]
  },
  {
   "cell_type": "code",
   "execution_count": 59,
   "id": "27cebd2a-aa86-4eb5-91b2-c9f4f9a58dd1",
   "metadata": {},
   "outputs": [
    {
     "data": {
      "text/plain": [
       "array([0, 1, 2, 3, 4, 5, 6, 7, 8, 9])"
      ]
     },
     "execution_count": 59,
     "metadata": {},
     "output_type": "execute_result"
    }
   ],
   "source": [
    "d"
   ]
  },
  {
   "cell_type": "code",
   "execution_count": 60,
   "id": "9596221c-ab67-4746-af06-9ab7012cf3d0",
   "metadata": {},
   "outputs": [
    {
     "data": {
      "text/plain": [
       "array([False, False, False, False, False, False,  True,  True,  True,\n",
       "        True])"
      ]
     },
     "execution_count": 60,
     "metadata": {},
     "output_type": "execute_result"
    }
   ],
   "source": [
    "d > 5"
   ]
  },
  {
   "cell_type": "code",
   "execution_count": 62,
   "id": "96e0c59b-9976-4623-9c75-64a592ab9737",
   "metadata": {},
   "outputs": [
    {
     "data": {
      "text/plain": [
       "array([6, 7, 8, 9])"
      ]
     },
     "execution_count": 62,
     "metadata": {},
     "output_type": "execute_result"
    }
   ],
   "source": [
    "d[d > 5]  # Hier werden alle Werte ausgegeben, welche bei der Boolean Maske True stehen haben"
   ]
  },
  {
   "cell_type": "code",
   "execution_count": 63,
   "id": "2a1bd4d9-1979-48cc-88f1-88470bb5d0b1",
   "metadata": {},
   "outputs": [
    {
     "data": {
      "text/plain": [
       "array([ True, False,  True, False,  True, False,  True, False,  True,\n",
       "       False])"
      ]
     },
     "execution_count": 63,
     "metadata": {},
     "output_type": "execute_result"
    }
   ],
   "source": [
    "d % 2 == 0"
   ]
  },
  {
   "cell_type": "code",
   "execution_count": 64,
   "id": "b8813341-aa3f-44be-bebf-69e0236006d9",
   "metadata": {},
   "outputs": [
    {
     "data": {
      "text/plain": [
       "array([0, 2, 4, 6, 8])"
      ]
     },
     "execution_count": 64,
     "metadata": {},
     "output_type": "execute_result"
    }
   ],
   "source": [
    "d[d % 2 == 0]"
   ]
  },
  {
   "cell_type": "code",
   "execution_count": 65,
   "id": "bb0c01f7-09fa-45e2-9129-5ff043d52800",
   "metadata": {},
   "outputs": [],
   "source": [
    "mod2 = d % 2 == 0"
   ]
  },
  {
   "cell_type": "code",
   "execution_count": 66,
   "id": "035cbc67-40a1-4792-b9de-4b12e7f39728",
   "metadata": {},
   "outputs": [
    {
     "data": {
      "text/plain": [
       "array([0, 2, 4, 6, 8])"
      ]
     },
     "execution_count": 66,
     "metadata": {},
     "output_type": "execute_result"
    }
   ],
   "source": [
    "d[mod2]"
   ]
  },
  {
   "cell_type": "markdown",
   "id": "e87ad4dc-bd48-41c4-9e4e-d654eed48373",
   "metadata": {},
   "source": [
    "### Performance"
   ]
  },
  {
   "cell_type": "code",
   "execution_count": 98,
   "id": "d2fa4e18-c14b-47ec-adce-a28e1f320677",
   "metadata": {},
   "outputs": [],
   "source": [
    "import time\n",
    "def measureTime(func, *args, **kwargs):\n",
    "    start = time.time()\n",
    "    func(*args, **kwargs)\n",
    "    end = time.time()\n",
    "    print(end - start)"
   ]
  },
  {
   "cell_type": "code",
   "execution_count": 105,
   "id": "c2190982-08b5-4cc5-b151-ec3ce9760eba",
   "metadata": {},
   "outputs": [],
   "source": [
    "def pythonList(anz):\n",
    "    return list(range(anz))"
   ]
  },
  {
   "cell_type": "code",
   "execution_count": 106,
   "id": "aa3e66d4-4be7-4815-ae0e-f166685f4197",
   "metadata": {},
   "outputs": [],
   "source": [
    "def numpyArray(anz):\n",
    "    return np.arange(anz)"
   ]
  },
  {
   "cell_type": "code",
   "execution_count": 108,
   "id": "9ea9e43e-ed81-45fa-a899-6e516ada7a26",
   "metadata": {},
   "outputs": [
    {
     "name": "stdout",
     "output_type": "stream",
     "text": [
      "8.35431456565857\n"
     ]
    }
   ],
   "source": [
    "x = measureTime(pythonList, 500_000_000)"
   ]
  },
  {
   "cell_type": "code",
   "execution_count": 109,
   "id": "1a01784c-6373-4017-bc98-b10727a3df62",
   "metadata": {},
   "outputs": [
    {
     "name": "stdout",
     "output_type": "stream",
     "text": [
      "0.7929317951202393\n"
     ]
    }
   ],
   "source": [
    "y = measureTime(numpyArray, 500_000_000)"
   ]
  },
  {
   "cell_type": "code",
   "execution_count": 110,
   "id": "4b5a61af-05be-42d9-a6df-8d4c95571970",
   "metadata": {},
   "outputs": [],
   "source": [
    "import sys"
   ]
  },
  {
   "cell_type": "code",
   "execution_count": 111,
   "id": "18e9b349-055c-4221-a48b-3815445ee0b1",
   "metadata": {},
   "outputs": [],
   "source": [
    "z = 10"
   ]
  },
  {
   "cell_type": "code",
   "execution_count": 113,
   "id": "46c27ad1-be1d-4ad9-a9c6-8a27975e61f2",
   "metadata": {},
   "outputs": [
    {
     "data": {
      "text/plain": [
       "28"
      ]
     },
     "execution_count": 113,
     "metadata": {},
     "output_type": "execute_result"
    }
   ],
   "source": [
    "sys.getsizeof(z)  # Python Int benötigt 28B"
   ]
  },
  {
   "cell_type": "markdown",
   "id": "275363ec-6903-4a4d-b02e-883aa28b3fec",
   "metadata": {},
   "source": [
    "### Weitere Funktionen"
   ]
  },
  {
   "cell_type": "markdown",
   "id": "1a43a5dd-7488-4197-8e5f-c757bd3885d4",
   "metadata": {},
   "source": [
    "#### Zufallszahlen"
   ]
  },
  {
   "cell_type": "code",
   "execution_count": 115,
   "id": "4c6d0217-e45d-4580-a5d5-a65d764865fc",
   "metadata": {},
   "outputs": [
    {
     "data": {
      "text/plain": [
       "0.13678136207039415"
      ]
     },
     "execution_count": 115,
     "metadata": {},
     "output_type": "execute_result"
    }
   ],
   "source": [
    "np.random.random()  # Zufallszahl von 0-1"
   ]
  },
  {
   "cell_type": "code",
   "execution_count": 121,
   "id": "acb62a71-4dca-4a18-935b-816e60f9929f",
   "metadata": {},
   "outputs": [
    {
     "data": {
      "text/plain": [
       "array([[0.53181716, 0.80670188, 0.04712398],\n",
       "       [0.85547554, 0.17789844, 0.65867378],\n",
       "       [0.85667727, 0.59970919, 0.87866179]])"
      ]
     },
     "execution_count": 121,
     "metadata": {},
     "output_type": "execute_result"
    }
   ],
   "source": [
    "np.random.random(size=(3, 3))  # Zufallszahlen Array in der Form 3x3"
   ]
  },
  {
   "cell_type": "code",
   "execution_count": 122,
   "id": "814dab38-a7ce-493c-bd3e-94878c47be36",
   "metadata": {},
   "outputs": [
    {
     "data": {
      "text/plain": [
       "array([0.77545805, 0.37453274, 0.30261535, 0.46476244, 0.8205531 ,\n",
       "       0.53033615, 0.91544102, 0.02954573, 0.16602974, 0.60424279])"
      ]
     },
     "execution_count": 122,
     "metadata": {},
     "output_type": "execute_result"
    }
   ],
   "source": [
    "np.random.random(size=10)"
   ]
  },
  {
   "cell_type": "code",
   "execution_count": 127,
   "id": "a0382f3f-d4db-4ad2-ae9c-9f3cd802cd31",
   "metadata": {},
   "outputs": [
    {
     "data": {
      "text/plain": [
       "9"
      ]
     },
     "execution_count": 127,
     "metadata": {},
     "output_type": "execute_result"
    }
   ],
   "source": [
    "np.random.randint(10)  # Zufallszahl von 0-9"
   ]
  },
  {
   "cell_type": "code",
   "execution_count": 131,
   "id": "1e6c8862-bdb1-447d-919f-30a3b14549c1",
   "metadata": {},
   "outputs": [
    {
     "name": "stdout",
     "output_type": "stream",
     "text": [
      "5\n",
      "3\n",
      "7\n",
      "0\n",
      "3\n",
      "1\n",
      "0\n",
      "8\n",
      "4\n",
      "0\n"
     ]
    }
   ],
   "source": [
    "for x in range(10):\n",
    "    print(np.random.randint(10))"
   ]
  },
  {
   "cell_type": "code",
   "execution_count": 133,
   "id": "0403f548-07f1-42b4-a694-353acbcf443b",
   "metadata": {},
   "outputs": [
    {
     "data": {
      "text/plain": [
       "array([[3, 2, 7, 7, 2, 2, 5, 7, 0, 3],\n",
       "       [2, 0, 0, 3, 7, 1, 9, 0, 2, 9],\n",
       "       [2, 0, 3, 0, 2, 6, 1, 7, 9, 6],\n",
       "       [7, 4, 4, 4, 3, 7, 7, 4, 2, 1],\n",
       "       [1, 7, 2, 9, 7, 4, 4, 8, 8, 9],\n",
       "       [3, 5, 4, 5, 7, 6, 0, 8, 4, 2],\n",
       "       [4, 5, 5, 6, 2, 0, 9, 6, 9, 4],\n",
       "       [6, 8, 3, 0, 6, 1, 4, 1, 8, 4],\n",
       "       [0, 0, 5, 2, 7, 8, 8, 6, 5, 7],\n",
       "       [9, 7, 3, 8, 5, 6, 4, 1, 6, 8]], dtype=int8)"
      ]
     },
     "execution_count": 133,
     "metadata": {},
     "output_type": "execute_result"
    }
   ],
   "source": [
    "np.random.randint(10, size=(10, 10), dtype=np.int8)"
   ]
  },
  {
   "cell_type": "markdown",
   "id": "f238fe09-3aa2-4b5b-929f-450f256aba79",
   "metadata": {},
   "source": [
    "#### Reshape\n",
    "\n",
    "Form von einem Array ändern\n",
    "\n",
    "- 1D <-> 2D\n",
    "- 10x10 -> 20x5 -> 100x1"
   ]
  },
  {
   "cell_type": "code",
   "execution_count": 136,
   "id": "a1d09b17-1365-4c5b-8087-726b101d9244",
   "metadata": {},
   "outputs": [
    {
     "data": {
      "text/plain": [
       "array([[0, 1],\n",
       "       [2, 3],\n",
       "       [4, 5],\n",
       "       [6, 7],\n",
       "       [8, 9]])"
      ]
     },
     "execution_count": 136,
     "metadata": {},
     "output_type": "execute_result"
    }
   ],
   "source": [
    "np.arange(10).reshape(5, 2)  # 5 Zeilen, 2 Spalten"
   ]
  },
  {
   "cell_type": "code",
   "execution_count": 137,
   "id": "e56eecba-403a-4818-96f9-2e0329e9285e",
   "metadata": {},
   "outputs": [
    {
     "data": {
      "text/plain": [
       "array([[0, 1, 2, 3, 4],\n",
       "       [5, 6, 7, 8, 9]])"
      ]
     },
     "execution_count": 137,
     "metadata": {},
     "output_type": "execute_result"
    }
   ],
   "source": [
    "np.arange(10).reshape(2, 5)  # 2 Zeilen, 5 Spalten"
   ]
  },
  {
   "cell_type": "code",
   "execution_count": 146,
   "id": "bf69441a-1bb1-441b-b9d1-1300c3b95c89",
   "metadata": {},
   "outputs": [
    {
     "data": {
      "text/plain": [
       "array([[0],\n",
       "       [1],\n",
       "       [2],\n",
       "       [3],\n",
       "       [4],\n",
       "       [5],\n",
       "       [6],\n",
       "       [7],\n",
       "       [8],\n",
       "       [9]])"
      ]
     },
     "execution_count": 146,
     "metadata": {},
     "output_type": "execute_result"
    }
   ],
   "source": [
    "np.arange(10).reshape(10, -1)  # -1: Platzhalter für die Länge des Arrays"
   ]
  },
  {
   "cell_type": "code",
   "execution_count": 147,
   "id": "ecb9f009-6ffa-45d2-80c9-32ec54553e78",
   "metadata": {},
   "outputs": [
    {
     "data": {
      "text/plain": [
       "array([[1, 1, 5, 1, 8, 9, 6, 0, 7, 3],\n",
       "       [1, 0, 0, 8, 3, 4, 8, 4, 8, 1],\n",
       "       [6, 8, 1, 2, 4, 9, 9, 2, 5, 5],\n",
       "       [2, 7, 4, 6, 3, 2, 2, 5, 0, 2],\n",
       "       [5, 7, 8, 1, 7, 9, 4, 4, 0, 2],\n",
       "       [9, 5, 8, 6, 8, 0, 4, 1, 4, 5],\n",
       "       [5, 3, 4, 0, 0, 1, 1, 5, 4, 0],\n",
       "       [8, 8, 8, 5, 7, 1, 8, 0, 0, 1],\n",
       "       [3, 3, 6, 2, 8, 2, 2, 4, 0, 4],\n",
       "       [9, 8, 4, 8, 7, 4, 6, 7, 0, 1]], dtype=int32)"
      ]
     },
     "execution_count": 147,
     "metadata": {},
     "output_type": "execute_result"
    }
   ],
   "source": [
    "np.random.randint(10, size=(10, 10))"
   ]
  },
  {
   "cell_type": "code",
   "execution_count": 154,
   "id": "947edfd8-0f14-4df4-b2ca-4e41604c79e1",
   "metadata": {},
   "outputs": [
    {
     "data": {
      "text/plain": [
       "array([0, 8, 9, 2, 2, 8, 6, 7, 0, 9, 4, 5, 3, 9, 2, 0, 5, 5, 6, 3, 2, 4,\n",
       "       4, 9, 1, 3, 4, 2, 0, 5, 3, 3, 6, 7, 9, 9, 7, 6, 4, 3, 7, 2, 9, 4,\n",
       "       3, 2, 3, 3, 0, 4, 3, 6, 1, 0, 8, 9, 4, 2, 1, 2, 4, 7, 4, 9, 4, 3,\n",
       "       6, 4, 8, 3, 4, 6, 9, 6, 8, 9, 3, 3, 6, 8, 9, 9, 6, 5, 3, 8, 5, 9,\n",
       "       7, 4, 6, 6, 8, 5, 7, 0, 0, 1, 9, 0], dtype=int32)"
      ]
     },
     "execution_count": 154,
     "metadata": {},
     "output_type": "execute_result"
    }
   ],
   "source": [
    "np.random.randint(10, size=(10, 10)).reshape(-1,)  # -1,: Array glätten"
   ]
  },
  {
   "cell_type": "code",
   "execution_count": 157,
   "id": "6f5f5d77-2b5e-4acc-bd09-e9cf56a2dab7",
   "metadata": {},
   "outputs": [
    {
     "data": {
      "text/plain": [
       "array([[1, 6, 2, 4, 9, 2, 1, 5, 4, 4, 9, 9, 1, 8, 3, 8, 4, 6, 2, 8],\n",
       "       [2, 0, 8, 3, 5, 4, 7, 5, 9, 0, 2, 3, 4, 3, 7, 0, 7, 4, 4, 5],\n",
       "       [8, 7, 0, 0, 8, 5, 7, 3, 2, 5, 3, 3, 2, 2, 8, 2, 5, 5, 8, 5],\n",
       "       [2, 6, 6, 6, 7, 7, 9, 6, 2, 1, 2, 2, 9, 9, 0, 4, 5, 8, 8, 5],\n",
       "       [6, 2, 8, 6, 5, 8, 7, 9, 7, 6, 7, 2, 4, 6, 1, 6, 2, 5, 5, 2]],\n",
       "      dtype=int32)"
      ]
     },
     "execution_count": 157,
     "metadata": {},
     "output_type": "execute_result"
    }
   ],
   "source": [
    "np.random.randint(10, size=(10, 10)).reshape(5, 20)"
   ]
  },
  {
   "cell_type": "code",
   "execution_count": 160,
   "id": "3b94b1a4-f5c0-494a-9767-6ca95d94a441",
   "metadata": {},
   "outputs": [
    {
     "data": {
      "text/plain": [
       "array([[[8, 9, 1, 3, 8, 2, 9, 5, 4, 1],\n",
       "        [1, 4, 9, 5, 4, 9, 3, 1, 5, 3]],\n",
       "\n",
       "       [[6, 0, 3, 3, 5, 2, 2, 0, 9, 8],\n",
       "        [4, 5, 5, 1, 5, 6, 6, 5, 6, 6]],\n",
       "\n",
       "       [[8, 8, 3, 3, 8, 1, 9, 4, 5, 5],\n",
       "        [3, 6, 0, 3, 8, 3, 9, 8, 6, 3]],\n",
       "\n",
       "       [[0, 5, 5, 7, 4, 7, 4, 9, 7, 5],\n",
       "        [7, 3, 8, 8, 5, 3, 9, 3, 1, 9]],\n",
       "\n",
       "       [[0, 1, 7, 3, 5, 0, 1, 6, 2, 2],\n",
       "        [7, 1, 4, 1, 2, 2, 4, 6, 9, 5]]], dtype=int32)"
      ]
     },
     "execution_count": 160,
     "metadata": {},
     "output_type": "execute_result"
    }
   ],
   "source": [
    "np.random.randint(10, size=(10, 10)).reshape(5, 2, 10)"
   ]
  },
  {
   "cell_type": "markdown",
   "id": "7ca8280c-b31d-4430-ace1-75cbb59ad71f",
   "metadata": {},
   "source": [
    "#### linspace\n",
    "\n",
    "Array von X bis Y mit Z Elementen erzeugen\n",
    "\n",
    "Jedes Element hat den gleichen Abstand zueinander"
   ]
  },
  {
   "cell_type": "code",
   "execution_count": 163,
   "id": "80d487f0-3a2e-4e8c-9554-7dc286b0ad53",
   "metadata": {},
   "outputs": [
    {
     "data": {
      "text/plain": [
       "array([ 0. ,  0.5,  1. ,  1.5,  2. ,  2.5,  3. ,  3.5,  4. ,  4.5,  5. ,\n",
       "        5.5,  6. ,  6.5,  7. ,  7.5,  8. ,  8.5,  9. ,  9.5, 10. ])"
      ]
     },
     "execution_count": 163,
     "metadata": {},
     "output_type": "execute_result"
    }
   ],
   "source": [
    "np.linspace(0, 10, 21)"
   ]
  },
  {
   "cell_type": "code",
   "execution_count": 166,
   "id": "b15eec79-25f0-4a27-bd4b-9ba4fa0390b0",
   "metadata": {},
   "outputs": [
    {
     "data": {
      "text/plain": [
       "array([ 0. ,  0.5,  1. ,  1.5,  2. ,  2.5,  3. ,  3.5,  4. ,  4.5,  5. ,\n",
       "        5.5,  6. ,  6.5,  7. ,  7.5,  8. ,  8.5,  9. ,  9.5, 10. ])"
      ]
     },
     "execution_count": 166,
     "metadata": {},
     "output_type": "execute_result"
    }
   ],
   "source": [
    "np.arange(21) / 2"
   ]
  },
  {
   "cell_type": "markdown",
   "id": "bdbbdc80-b637-4064-9c41-c4f10c06e663",
   "metadata": {},
   "source": [
    "#### zeros, ones"
   ]
  },
  {
   "cell_type": "code",
   "execution_count": 175,
   "id": "6f789b00-d0b5-46d2-9578-b86fd06d9fcf",
   "metadata": {},
   "outputs": [
    {
     "data": {
      "text/plain": [
       "array([0., 0., 0., 0., 0., 0., 0., 0., 0., 0.])"
      ]
     },
     "execution_count": 175,
     "metadata": {},
     "output_type": "execute_result"
    }
   ],
   "source": [
    "np.zeros(10)"
   ]
  },
  {
   "cell_type": "code",
   "execution_count": 176,
   "id": "86670511-cbc2-4e84-a091-67a9c1814f91",
   "metadata": {},
   "outputs": [
    {
     "data": {
      "text/plain": [
       "array([1, 1, 1, 1, 1, 1, 1, 1, 1, 1], dtype=int8)"
      ]
     },
     "execution_count": 176,
     "metadata": {},
     "output_type": "execute_result"
    }
   ],
   "source": [
    "np.ones(10, dtype=np.int8)"
   ]
  },
  {
   "cell_type": "markdown",
   "id": "d7dd50c0-8089-454c-9609-6bbc0d4cfda1",
   "metadata": {},
   "source": [
    "#### hstack, vstack\n",
    "\n",
    "Horizontal Stack, Vertical Stack\n",
    "\n",
    "Arrays zusammenbauen\n",
    "\n",
    "WICHTIG: Die Dimension müssen stimmen"
   ]
  },
  {
   "cell_type": "code",
   "execution_count": 178,
   "id": "53887946-d8b8-4268-9b52-f5d017c7e12b",
   "metadata": {},
   "outputs": [],
   "source": [
    "f = c"
   ]
  },
  {
   "cell_type": "code",
   "execution_count": 179,
   "id": "7ee713a7-6fbc-4600-9665-421cd2f3dca0",
   "metadata": {},
   "outputs": [
    {
     "data": {
      "text/plain": [
       "array([[1, 2, 3],\n",
       "       [4, 5, 6],\n",
       "       [7, 8, 9]])"
      ]
     },
     "execution_count": 179,
     "metadata": {},
     "output_type": "execute_result"
    }
   ],
   "source": [
    "f"
   ]
  },
  {
   "cell_type": "code",
   "execution_count": 189,
   "id": "312d5ac8-2927-4ad7-b70f-074e8ab69f67",
   "metadata": {},
   "outputs": [],
   "source": [
    "# Aufgabe: Array mit 4, 7, 10 rechts anhängen\n",
    "n = np.array([4, 7, 10]).reshape(-1, 1)"
   ]
  },
  {
   "cell_type": "code",
   "execution_count": 194,
   "id": "f45fd335-960d-451d-a775-e3d345764744",
   "metadata": {},
   "outputs": [],
   "source": [
    "f = np.hstack([f, n])  # Diese Funktion benötigt als Parameter immer eine Liste"
   ]
  },
  {
   "cell_type": "code",
   "execution_count": 196,
   "id": "03349ad0-dea3-4d3c-b68b-38bea55e01d1",
   "metadata": {},
   "outputs": [
    {
     "data": {
      "text/plain": [
       "array([[ 1,  2,  3,  4],\n",
       "       [ 4,  5,  6,  7],\n",
       "       [ 7,  8,  9, 10]])"
      ]
     },
     "execution_count": 196,
     "metadata": {},
     "output_type": "execute_result"
    }
   ],
   "source": [
    "f"
   ]
  },
  {
   "cell_type": "code",
   "execution_count": 195,
   "id": "088cec6c-d16c-4b2a-b099-fde60a47506b",
   "metadata": {},
   "outputs": [],
   "source": [
    "m = np.array([10, 11, 12, 13])"
   ]
  },
  {
   "cell_type": "code",
   "execution_count": 199,
   "id": "c66f872e-da8f-41d0-93fb-70d8c7d4fa6e",
   "metadata": {},
   "outputs": [],
   "source": [
    "g = np.vstack([f, m])"
   ]
  },
  {
   "cell_type": "code",
   "execution_count": 200,
   "id": "aa5dddcf-33c3-417d-abea-e626b009a87e",
   "metadata": {},
   "outputs": [
    {
     "data": {
      "text/plain": [
       "array([[ 1,  2,  3,  4],\n",
       "       [ 4,  5,  6,  7],\n",
       "       [ 7,  8,  9, 10],\n",
       "       [10, 11, 12, 13]])"
      ]
     },
     "execution_count": 200,
     "metadata": {},
     "output_type": "execute_result"
    }
   ],
   "source": [
    "g"
   ]
  },
  {
   "cell_type": "code",
   "execution_count": 201,
   "id": "1cd8ed4a-ec51-41c3-88d7-7277d5372ed4",
   "metadata": {},
   "outputs": [],
   "source": [
    "# Aufgabe: Die Summen senkrecht unten anhängen"
   ]
  },
  {
   "cell_type": "code",
   "execution_count": 202,
   "id": "6a454a96-a67d-4683-8b66-d2d34ea66475",
   "metadata": {},
   "outputs": [
    {
     "data": {
      "text/plain": [
       "array([22, 26, 30, 34])"
      ]
     },
     "execution_count": 202,
     "metadata": {},
     "output_type": "execute_result"
    }
   ],
   "source": [
    "g.sum(axis=0)"
   ]
  },
  {
   "cell_type": "code",
   "execution_count": 204,
   "id": "5408254d-7c57-4c82-92e1-320c3dcc3f9b",
   "metadata": {},
   "outputs": [],
   "source": [
    "h = np.vstack([g, g.sum(axis=0)])"
   ]
  },
  {
   "cell_type": "code",
   "execution_count": 205,
   "id": "2d6daa80-22e5-4c9f-a62e-11e0a62254e0",
   "metadata": {},
   "outputs": [
    {
     "data": {
      "text/plain": [
       "array([[ 1,  2,  3,  4],\n",
       "       [ 4,  5,  6,  7],\n",
       "       [ 7,  8,  9, 10],\n",
       "       [10, 11, 12, 13],\n",
       "       [22, 26, 30, 34]])"
      ]
     },
     "execution_count": 205,
     "metadata": {},
     "output_type": "execute_result"
    }
   ],
   "source": [
    "h"
   ]
  },
  {
   "cell_type": "code",
   "execution_count": 206,
   "id": "e8b28fdd-ba8d-410e-b267-90371658b874",
   "metadata": {},
   "outputs": [],
   "source": [
    "# Aufgabe: Die Summen waagrecht rechts anhängen"
   ]
  },
  {
   "cell_type": "code",
   "execution_count": 210,
   "id": "770dc5fe-0e76-40f4-b2f1-9b5cce2ba60a",
   "metadata": {},
   "outputs": [
    {
     "data": {
      "text/plain": [
       "array([ 10,  22,  34,  46, 112])"
      ]
     },
     "execution_count": 210,
     "metadata": {},
     "output_type": "execute_result"
    }
   ],
   "source": [
    "h.sum(axis=1)"
   ]
  },
  {
   "cell_type": "code",
   "execution_count": 211,
   "id": "952d550e-052d-40ea-8fa3-217549e8c222",
   "metadata": {},
   "outputs": [
    {
     "data": {
      "text/plain": [
       "array([[  1,   2,   3,   4,  10],\n",
       "       [  4,   5,   6,   7,  22],\n",
       "       [  7,   8,   9,  10,  34],\n",
       "       [ 10,  11,  12,  13,  46],\n",
       "       [ 22,  26,  30,  34, 112]])"
      ]
     },
     "execution_count": 211,
     "metadata": {},
     "output_type": "execute_result"
    }
   ],
   "source": [
    "np.hstack([h, h.sum(axis=1).reshape(-1, 1)])"
   ]
  }
 ],
 "metadata": {
  "kernelspec": {
   "display_name": "Python 3 (ipykernel)",
   "language": "python",
   "name": "python3"
  },
  "language_info": {
   "codemirror_mode": {
    "name": "ipython",
    "version": 3
   },
   "file_extension": ".py",
   "mimetype": "text/x-python",
   "name": "python",
   "nbconvert_exporter": "python",
   "pygments_lexer": "ipython3",
   "version": "3.12.10"
  }
 },
 "nbformat": 4,
 "nbformat_minor": 5
}
