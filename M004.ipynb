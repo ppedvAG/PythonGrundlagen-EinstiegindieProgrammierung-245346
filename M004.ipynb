{
 "cells": [
  {
   "cell_type": "markdown",
   "id": "53db596a-0d96-4eb0-bb9f-dc8a54697bac",
   "metadata": {},
   "source": [
    "## Datenbanken\n"
   ]
  },
  {
   "cell_type": "code",
   "execution_count": 1,
   "id": "d64aaee8-b48f-47e0-b465-c6f7cd63889c",
   "metadata": {},
   "outputs": [],
   "source": [
    "import sqlite3 as sql\n",
    "import pandas as pd"
   ]
  },
  {
   "cell_type": "code",
   "execution_count": 2,
   "id": "16592d0b-58af-4997-8553-d5c4831c1a47",
   "metadata": {},
   "outputs": [],
   "source": [
    "cursor = None\n",
    "with sql.connect(\"Test.db\") as conn:\n",
    "    cursor = conn.cursor()"
   ]
  },
  {
   "cell_type": "code",
   "execution_count": 3,
   "id": "2cfa4221-009e-4f50-af15-c57430aa5174",
   "metadata": {},
   "outputs": [
    {
     "data": {
      "text/plain": [
       "<sqlite3.Cursor at 0x11a83e1fc40>"
      ]
     },
     "execution_count": 3,
     "metadata": {},
     "output_type": "execute_result"
    }
   ],
   "source": [
    "cursor.execute('CREATE TABLE Personen (id int, name varchar(50))')"
   ]
  },
  {
   "cell_type": "code",
   "execution_count": 4,
   "id": "2d0239e9-bc3f-415c-8a4d-b6c20a259a8e",
   "metadata": {},
   "outputs": [
    {
     "data": {
      "text/plain": [
       "<sqlite3.Cursor at 0x11a83e1fc40>"
      ]
     },
     "execution_count": 4,
     "metadata": {},
     "output_type": "execute_result"
    }
   ],
   "source": [
    "cursor.execute(\"INSERT INTO Personen VALUES (0, 'Lukas')\")\n",
    "cursor.execute(\"INSERT INTO Personen VALUES (1, 'Anita')\")"
   ]
  },
  {
   "cell_type": "code",
   "execution_count": 15,
   "id": "1ade6b59-8ef8-475b-bd01-8735183488f4",
   "metadata": {},
   "outputs": [],
   "source": [
    "result = cursor.execute(\"SELECT * FROM Personen\").fetchall()\n",
    "\n",
    "personen = []\n",
    "for r in result:\n",
    "    personen.append(Person(r[0], r[1]))"
   ]
  },
  {
   "cell_type": "code",
   "execution_count": 17,
   "id": "c9854985-dbc7-426b-87dc-b969a6195cd4",
   "metadata": {},
   "outputs": [
    {
     "data": {
      "text/html": [
       "<div>\n",
       "<style scoped>\n",
       "    .dataframe tbody tr th:only-of-type {\n",
       "        vertical-align: middle;\n",
       "    }\n",
       "\n",
       "    .dataframe tbody tr th {\n",
       "        vertical-align: top;\n",
       "    }\n",
       "\n",
       "    .dataframe thead th {\n",
       "        text-align: right;\n",
       "    }\n",
       "</style>\n",
       "<table border=\"1\" class=\"dataframe\">\n",
       "  <thead>\n",
       "    <tr style=\"text-align: right;\">\n",
       "      <th></th>\n",
       "      <th>0</th>\n",
       "      <th>1</th>\n",
       "    </tr>\n",
       "  </thead>\n",
       "  <tbody>\n",
       "    <tr>\n",
       "      <th>0</th>\n",
       "      <td>0</td>\n",
       "      <td>Lukas</td>\n",
       "    </tr>\n",
       "    <tr>\n",
       "      <th>1</th>\n",
       "      <td>1</td>\n",
       "      <td>Anita</td>\n",
       "    </tr>\n",
       "  </tbody>\n",
       "</table>\n",
       "</div>"
      ],
      "text/plain": [
       "   0      1\n",
       "0  0  Lukas\n",
       "1  1  Anita"
      ]
     },
     "execution_count": 17,
     "metadata": {},
     "output_type": "execute_result"
    }
   ],
   "source": [
    "pd.DataFrame(result)"
   ]
  },
  {
   "cell_type": "code",
   "execution_count": 14,
   "id": "2b97d5cc-a06c-4c47-8837-b8b9e1f781b2",
   "metadata": {},
   "outputs": [],
   "source": [
    "class Person:\n",
    "    def __init__(self, id, name):\n",
    "        self.id = id\n",
    "        self.name = name"
   ]
  },
  {
   "cell_type": "code",
   "execution_count": null,
   "id": "9e8106f2-7f62-4735-92e1-c32352c3723b",
   "metadata": {},
   "outputs": [],
   "source": []
  }
 ],
 "metadata": {
  "kernelspec": {
   "display_name": "Python 3 (ipykernel)",
   "language": "python",
   "name": "python3"
  },
  "language_info": {
   "codemirror_mode": {
    "name": "ipython",
    "version": 3
   },
   "file_extension": ".py",
   "mimetype": "text/x-python",
   "name": "python",
   "nbconvert_exporter": "python",
   "pygments_lexer": "ipython3",
   "version": "3.12.10"
  }
 },
 "nbformat": 4,
 "nbformat_minor": 5
}
