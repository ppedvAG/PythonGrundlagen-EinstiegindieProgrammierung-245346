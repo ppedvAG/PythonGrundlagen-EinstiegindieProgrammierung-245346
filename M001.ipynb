{
 "cells": [
  {
   "cell_type": "markdown",
   "id": "f951143d-7483-4ce0-ad28-6ee139ea7c74",
   "metadata": {},
   "source": [
    "## IPython\n",
    "\n",
    "Zellenbasierter Aufbau\n",
    "\n",
    "Jede Zelle hat Zugriff auf jede davor ausgeführte Zelle\n",
    "\n",
    "Features:\n",
    "- Zellen\n",
    "    - Markdown\n",
    "    - Code\n",
    "- Schnelle Ergebnisse\n",
    "- Visualisierung von Daten\n",
    "\n",
    "---\n",
    "\n",
    "__Fetter Text__\n",
    "\n",
    "_Kursiver Text_"
   ]
  },
  {
   "cell_type": "code",
   "execution_count": 6,
   "id": "8f18741a-ba0c-45ba-af35-4ebce4b632fc",
   "metadata": {},
   "outputs": [],
   "source": [
    "x = 5"
   ]
  },
  {
   "cell_type": "code",
   "execution_count": 7,
   "id": "04668b80-5c09-4de6-b7a9-d642eec9cfff",
   "metadata": {},
   "outputs": [
    {
     "data": {
      "text/plain": [
       "10"
      ]
     },
     "execution_count": 7,
     "metadata": {},
     "output_type": "execute_result"
    }
   ],
   "source": [
    "x * 2"
   ]
  },
  {
   "cell_type": "code",
   "execution_count": 17,
   "id": "2c102a3c-6ed2-42f7-b313-0af645520ccf",
   "metadata": {},
   "outputs": [],
   "source": [
    "import numpy as np\n",
    "import pandas as pd\n",
    "import matplotlib.pyplot as plt"
   ]
  },
  {
   "cell_type": "code",
   "execution_count": 18,
   "id": "59901b04-0d46-4bd2-9884-becdb62d0e4e",
   "metadata": {},
   "outputs": [
    {
     "data": {
      "text/html": [
       "<div>\n",
       "<style scoped>\n",
       "    .dataframe tbody tr th:only-of-type {\n",
       "        vertical-align: middle;\n",
       "    }\n",
       "\n",
       "    .dataframe tbody tr th {\n",
       "        vertical-align: top;\n",
       "    }\n",
       "\n",
       "    .dataframe thead th {\n",
       "        text-align: right;\n",
       "    }\n",
       "</style>\n",
       "<table border=\"1\" class=\"dataframe\">\n",
       "  <thead>\n",
       "    <tr style=\"text-align: right;\">\n",
       "      <th></th>\n",
       "      <th>Spalte 1</th>\n",
       "      <th>Spalte 2</th>\n",
       "      <th>Spalte 3</th>\n",
       "    </tr>\n",
       "  </thead>\n",
       "  <tbody>\n",
       "    <tr>\n",
       "      <th>0</th>\n",
       "      <td>1</td>\n",
       "      <td>4</td>\n",
       "      <td>7</td>\n",
       "    </tr>\n",
       "    <tr>\n",
       "      <th>1</th>\n",
       "      <td>2</td>\n",
       "      <td>5</td>\n",
       "      <td>8</td>\n",
       "    </tr>\n",
       "    <tr>\n",
       "      <th>2</th>\n",
       "      <td>3</td>\n",
       "      <td>6</td>\n",
       "      <td>9</td>\n",
       "    </tr>\n",
       "  </tbody>\n",
       "</table>\n",
       "</div>"
      ],
      "text/plain": [
       "   Spalte 1  Spalte 2  Spalte 3\n",
       "0         1         4         7\n",
       "1         2         5         8\n",
       "2         3         6         9"
      ]
     },
     "execution_count": 18,
     "metadata": {},
     "output_type": "execute_result"
    }
   ],
   "source": [
    "pd.DataFrame({\n",
    "    \"Spalte 1\": [1, 2, 3],\n",
    "    \"Spalte 2\": [4, 5, 6],\n",
    "    \"Spalte 3\": [7, 8, 9]\n",
    "})"
   ]
  },
  {
   "cell_type": "code",
   "execution_count": 21,
   "id": "b2989030-86e4-45b1-8403-8f33825a18a3",
   "metadata": {},
   "outputs": [
    {
     "data": {
      "image/png": "[encoded data removed]",
      "text/plain": [
       "<Figure size 640x480 with 1 Axes>"
      ]
     },
     "metadata": {},
     "output_type": "display_data"
    }
   ],
   "source": [
    "plt.plot([3.4, 1.8, 9.4, 8.6, 7.3, 5.7])"
   ]
  },
  {
   "cell_type": "code",
   "execution_count": 20,
   "id": "1d08b829-26ce-4e24-9f51-539e97adaa3b",
   "metadata": {},
   "outputs": [
    {
     "data": {
      "text/plain": [
       "<BarContainer object of 6 artists>"
      ]
     },
     "execution_count": 20,
     "metadata": {},
     "output_type": "execute_result"
    },
    {
     "data": {
      "image/png": "[encoded data removed]",
      "text/plain": [
       "<Figure size 640x480 with 1 Axes>"
      ]
     },
     "metadata": {},
     "output_type": "display_data"
    }
   ],
   "source": [
    "plt.bar(range(6), [3.4, 1.8, 9.4, 8.6, 7.3, 5.7])"
   ]
  },
  {
   "cell_type": "markdown",
   "id": "de38b7de-cfd3-4225-81c7-e950c280e5f0",
   "metadata": {},
   "source": [
    "### Shortcuts\n",
    "\n",
    "- Shift/Strg + Enter: Zelle ausführen\n",
    "- Escape: Zelle verlassen (ohne Ausführung)\n",
    "- Pfeil hoch/hinunter: Zwischen Zellen navigieren\n",
    "- A, B: Über/Unter der jetztigen Zelle eine neue Zelle erstellen\n",
    "- D + D: Zelle löschen\n",
    "- Z: Rückgängig\n",
    "- Shift + Z: Wiederherstellen\n",
    "- M, Y: Zwischen Markdown und Code umschalten"
   ]
  }
 ],
 "metadata": {
  "kernelspec": {
   "display_name": "Python 3 (ipykernel)",
   "language": "python",
   "name": "python3"
  },
  "language_info": {
   "codemirror_mode": {
    "name": "ipython",
    "version": 3
   },
   "file_extension": ".py",
   "mimetype": "text/x-python",
   "name": "python",
   "nbconvert_exporter": "python",
   "pygments_lexer": "ipython3",
   "version": "3.12.10"
  }
 },
 "nbformat": 4,
 "nbformat_minor": 5
}
